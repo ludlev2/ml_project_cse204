{
 "nbformat": 4,
 "nbformat_minor": 0,
 "metadata": {
  "colab": {
   "provenance": []
  },
  "kernelspec": {
   "name": "python3",
   "display_name": "Python 3"
  },
  "language_info": {
   "name": "python"
  }
 },
 "cells": [
  {
   "cell_type": "code",
   "execution_count": 1,
   "metadata": {
    "colab": {
     "base_uri": "https://localhost:8080/"
    },
    "id": "A4SUICjUGEsI",
    "outputId": "7ce1ef72-9d63-4643-d165-ff95309b852e",
    "pycharm": {
     "name": "#%%\n"
    }
   },
   "outputs": [
    {
     "output_type": "stream",
     "name": "stdout",
     "text": [
      "Mounted at /content/gdrive\n"
     ]
    }
   ],
   "source": [
    "from google.colab import drive\n",
    "drive.mount(\"/content/gdrive\")"
   ]
  },
  {
   "cell_type": "markdown",
   "source": [
    "# **Data Cleaning**\n",
    "- Clean and normalize data in london_underground_activity and\n",
    "london_underground_station_info datasets\n",
    "- Remove duplicates, nulls and outliers\n",
    "- Standardize column names and data types"
   ],
   "metadata": {
    "id": "_Wxv6pwDGIMg",
    "pycharm": {
     "name": "#%% md\n"
    }
   }
  },
  {
   "cell_type": "code",
   "source": [
    "import pandas as pd\n",
    "df1 = pd.read_csv('/content/gdrive/MyDrive/data/project_london/london_underground_activity.csv')\n",
    "df1.head()"
   ],
   "metadata": {
    "colab": {
     "base_uri": "https://localhost:8080/",
     "height": 206
    },
    "id": "P_AV3u_mGFW-",
    "outputId": "0ad2ae8e-9509-4a8c-b1e4-8128992e82a3",
    "pycharm": {
     "name": "#%%\n"
    }
   },
   "execution_count": 3,
   "outputs": [
    {
     "output_type": "execute_result",
     "data": {
      "text/plain": [
       "   year  nlc       station            area  weekday_entry  weekday_exit  \\\n",
       "0  2007  500    Acton Town          Ealing           9205        8899.0   \n",
       "1  2007  502       Aldgate  City of London           9887       10397.0   \n",
       "2  2007  503  Aldgate East   Tower Hamlets          12820       12271.0   \n",
       "3  2007  505      Alperton           Brent           4611        4719.0   \n",
       "4  2007  506      Amersham        Chiltern           4182        3938.0   \n",
       "\n",
       "   saturday_entry  saturday_exit  sunday_entry  sunday_exit  \\\n",
       "0            6722           6320          4427         4304   \n",
       "1            2191           2587          1484         1772   \n",
       "2            7040           6220          5505         5000   \n",
       "3            3354           3450          2433         2503   \n",
       "4            1709           1585          1004          957   \n",
       "\n",
       "   annual_entry_and_exit  \n",
       "0                   5.77  \n",
       "1                   5.57  \n",
       "2                   7.66  \n",
       "3                   3.01  \n",
       "4                   2.34  "
      ],
      "text/html": [
       "\n",
       "  <div id=\"df-ed23449a-55b6-416c-9620-ba4b95c2c10f\">\n",
       "    <div class=\"colab-df-container\">\n",
       "      <div>\n",
       "<style scoped>\n",
       "    .dataframe tbody tr th:only-of-type {\n",
       "        vertical-align: middle;\n",
       "    }\n",
       "\n",
       "    .dataframe tbody tr th {\n",
       "        vertical-align: top;\n",
       "    }\n",
       "\n",
       "    .dataframe thead th {\n",
       "        text-align: right;\n",
       "    }\n",
       "</style>\n",
       "<table border=\"1\" class=\"dataframe\">\n",
       "  <thead>\n",
       "    <tr style=\"text-align: right;\">\n",
       "      <th></th>\n",
       "      <th>year</th>\n",
       "      <th>nlc</th>\n",
       "      <th>station</th>\n",
       "      <th>area</th>\n",
       "      <th>weekday_entry</th>\n",
       "      <th>weekday_exit</th>\n",
       "      <th>saturday_entry</th>\n",
       "      <th>saturday_exit</th>\n",
       "      <th>sunday_entry</th>\n",
       "      <th>sunday_exit</th>\n",
       "      <th>annual_entry_and_exit</th>\n",
       "    </tr>\n",
       "  </thead>\n",
       "  <tbody>\n",
       "    <tr>\n",
       "      <th>0</th>\n",
       "      <td>2007</td>\n",
       "      <td>500</td>\n",
       "      <td>Acton Town</td>\n",
       "      <td>Ealing</td>\n",
       "      <td>9205</td>\n",
       "      <td>8899.0</td>\n",
       "      <td>6722</td>\n",
       "      <td>6320</td>\n",
       "      <td>4427</td>\n",
       "      <td>4304</td>\n",
       "      <td>5.77</td>\n",
       "    </tr>\n",
       "    <tr>\n",
       "      <th>1</th>\n",
       "      <td>2007</td>\n",
       "      <td>502</td>\n",
       "      <td>Aldgate</td>\n",
       "      <td>City of London</td>\n",
       "      <td>9887</td>\n",
       "      <td>10397.0</td>\n",
       "      <td>2191</td>\n",
       "      <td>2587</td>\n",
       "      <td>1484</td>\n",
       "      <td>1772</td>\n",
       "      <td>5.57</td>\n",
       "    </tr>\n",
       "    <tr>\n",
       "      <th>2</th>\n",
       "      <td>2007</td>\n",
       "      <td>503</td>\n",
       "      <td>Aldgate East</td>\n",
       "      <td>Tower Hamlets</td>\n",
       "      <td>12820</td>\n",
       "      <td>12271.0</td>\n",
       "      <td>7040</td>\n",
       "      <td>6220</td>\n",
       "      <td>5505</td>\n",
       "      <td>5000</td>\n",
       "      <td>7.66</td>\n",
       "    </tr>\n",
       "    <tr>\n",
       "      <th>3</th>\n",
       "      <td>2007</td>\n",
       "      <td>505</td>\n",
       "      <td>Alperton</td>\n",
       "      <td>Brent</td>\n",
       "      <td>4611</td>\n",
       "      <td>4719.0</td>\n",
       "      <td>3354</td>\n",
       "      <td>3450</td>\n",
       "      <td>2433</td>\n",
       "      <td>2503</td>\n",
       "      <td>3.01</td>\n",
       "    </tr>\n",
       "    <tr>\n",
       "      <th>4</th>\n",
       "      <td>2007</td>\n",
       "      <td>506</td>\n",
       "      <td>Amersham</td>\n",
       "      <td>Chiltern</td>\n",
       "      <td>4182</td>\n",
       "      <td>3938.0</td>\n",
       "      <td>1709</td>\n",
       "      <td>1585</td>\n",
       "      <td>1004</td>\n",
       "      <td>957</td>\n",
       "      <td>2.34</td>\n",
       "    </tr>\n",
       "  </tbody>\n",
       "</table>\n",
       "</div>\n",
       "      <button class=\"colab-df-convert\" onclick=\"convertToInteractive('df-ed23449a-55b6-416c-9620-ba4b95c2c10f')\"\n",
       "              title=\"Convert this dataframe to an interactive table.\"\n",
       "              style=\"display:none;\">\n",
       "        \n",
       "  <svg xmlns=\"http://www.w3.org/2000/svg\" height=\"24px\"viewBox=\"0 0 24 24\"\n",
       "       width=\"24px\">\n",
       "    <path d=\"M0 0h24v24H0V0z\" fill=\"none\"/>\n",
       "    <path d=\"M18.56 5.44l.94 2.06.94-2.06 2.06-.94-2.06-.94-.94-2.06-.94 2.06-2.06.94zm-11 1L8.5 8.5l.94-2.06 2.06-.94-2.06-.94L8.5 2.5l-.94 2.06-2.06.94zm10 10l.94 2.06.94-2.06 2.06-.94-2.06-.94-.94-2.06-.94 2.06-2.06.94z\"/><path d=\"M17.41 7.96l-1.37-1.37c-.4-.4-.92-.59-1.43-.59-.52 0-1.04.2-1.43.59L10.3 9.45l-7.72 7.72c-.78.78-.78 2.05 0 2.83L4 21.41c.39.39.9.59 1.41.59.51 0 1.02-.2 1.41-.59l7.78-7.78 2.81-2.81c.8-.78.8-2.07 0-2.86zM5.41 20L4 18.59l7.72-7.72 1.47 1.35L5.41 20z\"/>\n",
       "  </svg>\n",
       "      </button>\n",
       "      \n",
       "  <style>\n",
       "    .colab-df-container {\n",
       "      display:flex;\n",
       "      flex-wrap:wrap;\n",
       "      gap: 12px;\n",
       "    }\n",
       "\n",
       "    .colab-df-convert {\n",
       "      background-color: #E8F0FE;\n",
       "      border: none;\n",
       "      border-radius: 50%;\n",
       "      cursor: pointer;\n",
       "      display: none;\n",
       "      fill: #1967D2;\n",
       "      height: 32px;\n",
       "      padding: 0 0 0 0;\n",
       "      width: 32px;\n",
       "    }\n",
       "\n",
       "    .colab-df-convert:hover {\n",
       "      background-color: #E2EBFA;\n",
       "      box-shadow: 0px 1px 2px rgba(60, 64, 67, 0.3), 0px 1px 3px 1px rgba(60, 64, 67, 0.15);\n",
       "      fill: #174EA6;\n",
       "    }\n",
       "\n",
       "    [theme=dark] .colab-df-convert {\n",
       "      background-color: #3B4455;\n",
       "      fill: #D2E3FC;\n",
       "    }\n",
       "\n",
       "    [theme=dark] .colab-df-convert:hover {\n",
       "      background-color: #434B5C;\n",
       "      box-shadow: 0px 1px 3px 1px rgba(0, 0, 0, 0.15);\n",
       "      filter: drop-shadow(0px 1px 2px rgba(0, 0, 0, 0.3));\n",
       "      fill: #FFFFFF;\n",
       "    }\n",
       "  </style>\n",
       "\n",
       "      <script>\n",
       "        const buttonEl =\n",
       "          document.querySelector('#df-ed23449a-55b6-416c-9620-ba4b95c2c10f button.colab-df-convert');\n",
       "        buttonEl.style.display =\n",
       "          google.colab.kernel.accessAllowed ? 'block' : 'none';\n",
       "\n",
       "        async function convertToInteractive(key) {\n",
       "          const element = document.querySelector('#df-ed23449a-55b6-416c-9620-ba4b95c2c10f');\n",
       "          const dataTable =\n",
       "            await google.colab.kernel.invokeFunction('convertToInteractive',\n",
       "                                                     [key], {});\n",
       "          if (!dataTable) return;\n",
       "\n",
       "          const docLinkHtml = 'Like what you see? Visit the ' +\n",
       "            '<a target=\"_blank\" href=https://colab.research.google.com/notebooks/data_table.ipynb>data table notebook</a>'\n",
       "            + ' to learn more about interactive tables.';\n",
       "          element.innerHTML = '';\n",
       "          dataTable['output_type'] = 'display_data';\n",
       "          await google.colab.output.renderOutput(dataTable, element);\n",
       "          const docLink = document.createElement('div');\n",
       "          docLink.innerHTML = docLinkHtml;\n",
       "          element.appendChild(docLink);\n",
       "        }\n",
       "      </script>\n",
       "    </div>\n",
       "  </div>\n",
       "  "
      ]
     },
     "metadata": {},
     "execution_count": 3
    }
   ]
  },
  {
   "cell_type": "code",
   "source": [
    "df1.info()"
   ],
   "metadata": {
    "colab": {
     "base_uri": "https://localhost:8080/"
    },
    "id": "Q43BpmwxGhkJ",
    "outputId": "c61f753e-539a-4b83-df34-33f90feeea5d",
    "pycharm": {
     "name": "#%%\n"
    }
   },
   "execution_count": 4,
   "outputs": [
    {
     "output_type": "stream",
     "name": "stdout",
     "text": [
      "<class 'pandas.core.frame.DataFrame'>\n",
      "RangeIndex: 2953 entries, 0 to 2952\n",
      "Data columns (total 11 columns):\n",
      " #   Column                 Non-Null Count  Dtype  \n",
      "---  ------                 --------------  -----  \n",
      " 0   year                   2953 non-null   int64  \n",
      " 1   nlc                    2953 non-null   int64  \n",
      " 2   station                2953 non-null   object \n",
      " 3   area                   2946 non-null   object \n",
      " 4   weekday_entry          2953 non-null   int64  \n",
      " 5   weekday_exit           2953 non-null   float64\n",
      " 6   saturday_entry         2953 non-null   int64  \n",
      " 7   saturday_exit          2953 non-null   int64  \n",
      " 8   sunday_entry           2953 non-null   int64  \n",
      " 9   sunday_exit            2953 non-null   int64  \n",
      " 10  annual_entry_and_exit  2953 non-null   float64\n",
      "dtypes: float64(2), int64(7), object(2)\n",
      "memory usage: 253.9+ KB\n"
     ]
    }
   ]
  },
  {
   "cell_type": "code",
   "source": [
    "df1 = df1.dropna()\n",
    "df1.isnull().values.any()"
   ],
   "metadata": {
    "colab": {
     "base_uri": "https://localhost:8080/"
    },
    "id": "S25FgylfGnFy",
    "outputId": "191109ad-8fcb-4e5d-ed0a-babcccc8a589",
    "pycharm": {
     "name": "#%%\n"
    }
   },
   "execution_count": 8,
   "outputs": [
    {
     "output_type": "execute_result",
     "data": {
      "text/plain": [
       "False"
      ]
     },
     "metadata": {},
     "execution_count": 8
    }
   ]
  },
  {
   "cell_type": "code",
   "source": [
    "# Selecting duplicate rows except first\n",
    "# occurrence based on all columns\n",
    "duplicate = df1[df1.duplicated()]\n",
    " \n",
    "print(\"Duplicate Rows :\")\n",
    " \n",
    "# Print the resultant Dataframe\n",
    "duplicate"
   ],
   "metadata": {
    "colab": {
     "base_uri": "https://localhost:8080/",
     "height": 67
    },
    "id": "lNxj3R1BGrFL",
    "outputId": "cd7c6b4c-8f96-4ff1-e9b2-d2ff801f289f",
    "pycharm": {
     "name": "#%%\n"
    }
   },
   "execution_count": 6,
   "outputs": [
    {
     "output_type": "stream",
     "name": "stdout",
     "text": [
      "Duplicate Rows :\n"
     ]
    },
    {
     "output_type": "execute_result",
     "data": {
      "text/plain": [
       "Empty DataFrame\n",
       "Columns: [year, nlc, station, area, weekday_entry, weekday_exit, saturday_entry, saturday_exit, sunday_entry, sunday_exit, annual_entry_and_exit]\n",
       "Index: []"
      ],
      "text/html": [
       "\n",
       "  <div id=\"df-70e4aae5-09a7-4a9f-a86c-cba92e07a968\">\n",
       "    <div class=\"colab-df-container\">\n",
       "      <div>\n",
       "<style scoped>\n",
       "    .dataframe tbody tr th:only-of-type {\n",
       "        vertical-align: middle;\n",
       "    }\n",
       "\n",
       "    .dataframe tbody tr th {\n",
       "        vertical-align: top;\n",
       "    }\n",
       "\n",
       "    .dataframe thead th {\n",
       "        text-align: right;\n",
       "    }\n",
       "</style>\n",
       "<table border=\"1\" class=\"dataframe\">\n",
       "  <thead>\n",
       "    <tr style=\"text-align: right;\">\n",
       "      <th></th>\n",
       "      <th>year</th>\n",
       "      <th>nlc</th>\n",
       "      <th>station</th>\n",
       "      <th>area</th>\n",
       "      <th>weekday_entry</th>\n",
       "      <th>weekday_exit</th>\n",
       "      <th>saturday_entry</th>\n",
       "      <th>saturday_exit</th>\n",
       "      <th>sunday_entry</th>\n",
       "      <th>sunday_exit</th>\n",
       "      <th>annual_entry_and_exit</th>\n",
       "    </tr>\n",
       "  </thead>\n",
       "  <tbody>\n",
       "  </tbody>\n",
       "</table>\n",
       "</div>\n",
       "      <button class=\"colab-df-convert\" onclick=\"convertToInteractive('df-70e4aae5-09a7-4a9f-a86c-cba92e07a968')\"\n",
       "              title=\"Convert this dataframe to an interactive table.\"\n",
       "              style=\"display:none;\">\n",
       "        \n",
       "  <svg xmlns=\"http://www.w3.org/2000/svg\" height=\"24px\"viewBox=\"0 0 24 24\"\n",
       "       width=\"24px\">\n",
       "    <path d=\"M0 0h24v24H0V0z\" fill=\"none\"/>\n",
       "    <path d=\"M18.56 5.44l.94 2.06.94-2.06 2.06-.94-2.06-.94-.94-2.06-.94 2.06-2.06.94zm-11 1L8.5 8.5l.94-2.06 2.06-.94-2.06-.94L8.5 2.5l-.94 2.06-2.06.94zm10 10l.94 2.06.94-2.06 2.06-.94-2.06-.94-.94-2.06-.94 2.06-2.06.94z\"/><path d=\"M17.41 7.96l-1.37-1.37c-.4-.4-.92-.59-1.43-.59-.52 0-1.04.2-1.43.59L10.3 9.45l-7.72 7.72c-.78.78-.78 2.05 0 2.83L4 21.41c.39.39.9.59 1.41.59.51 0 1.02-.2 1.41-.59l7.78-7.78 2.81-2.81c.8-.78.8-2.07 0-2.86zM5.41 20L4 18.59l7.72-7.72 1.47 1.35L5.41 20z\"/>\n",
       "  </svg>\n",
       "      </button>\n",
       "      \n",
       "  <style>\n",
       "    .colab-df-container {\n",
       "      display:flex;\n",
       "      flex-wrap:wrap;\n",
       "      gap: 12px;\n",
       "    }\n",
       "\n",
       "    .colab-df-convert {\n",
       "      background-color: #E8F0FE;\n",
       "      border: none;\n",
       "      border-radius: 50%;\n",
       "      cursor: pointer;\n",
       "      display: none;\n",
       "      fill: #1967D2;\n",
       "      height: 32px;\n",
       "      padding: 0 0 0 0;\n",
       "      width: 32px;\n",
       "    }\n",
       "\n",
       "    .colab-df-convert:hover {\n",
       "      background-color: #E2EBFA;\n",
       "      box-shadow: 0px 1px 2px rgba(60, 64, 67, 0.3), 0px 1px 3px 1px rgba(60, 64, 67, 0.15);\n",
       "      fill: #174EA6;\n",
       "    }\n",
       "\n",
       "    [theme=dark] .colab-df-convert {\n",
       "      background-color: #3B4455;\n",
       "      fill: #D2E3FC;\n",
       "    }\n",
       "\n",
       "    [theme=dark] .colab-df-convert:hover {\n",
       "      background-color: #434B5C;\n",
       "      box-shadow: 0px 1px 3px 1px rgba(0, 0, 0, 0.15);\n",
       "      filter: drop-shadow(0px 1px 2px rgba(0, 0, 0, 0.3));\n",
       "      fill: #FFFFFF;\n",
       "    }\n",
       "  </style>\n",
       "\n",
       "      <script>\n",
       "        const buttonEl =\n",
       "          document.querySelector('#df-70e4aae5-09a7-4a9f-a86c-cba92e07a968 button.colab-df-convert');\n",
       "        buttonEl.style.display =\n",
       "          google.colab.kernel.accessAllowed ? 'block' : 'none';\n",
       "\n",
       "        async function convertToInteractive(key) {\n",
       "          const element = document.querySelector('#df-70e4aae5-09a7-4a9f-a86c-cba92e07a968');\n",
       "          const dataTable =\n",
       "            await google.colab.kernel.invokeFunction('convertToInteractive',\n",
       "                                                     [key], {});\n",
       "          if (!dataTable) return;\n",
       "\n",
       "          const docLinkHtml = 'Like what you see? Visit the ' +\n",
       "            '<a target=\"_blank\" href=https://colab.research.google.com/notebooks/data_table.ipynb>data table notebook</a>'\n",
       "            + ' to learn more about interactive tables.';\n",
       "          element.innerHTML = '';\n",
       "          dataTable['output_type'] = 'display_data';\n",
       "          await google.colab.output.renderOutput(dataTable, element);\n",
       "          const docLink = document.createElement('div');\n",
       "          docLink.innerHTML = docLinkHtml;\n",
       "          element.appendChild(docLink);\n",
       "        }\n",
       "      </script>\n",
       "    </div>\n",
       "  </div>\n",
       "  "
      ]
     },
     "metadata": {},
     "execution_count": 6
    }
   ]
  },
  {
   "cell_type": "code",
   "source": [
    "import seaborn as sns\n",
    "import matplotlib.pyplot as plt\n",
    "\n",
    "plt.figure(figsize=(12, 8))\n",
    "\n",
    "plt.subplot(2, 2, 1)\n",
    "sns.boxplot(data=df1, y='weekday_entry')\n",
    "plt.title('weekday_entry')\n",
    "\n",
    "plt.subplot(2, 2, 2)\n",
    "sns.boxplot(data=df1, y='weekday_exit')\n",
    "plt.title('weekday_exit')\n",
    "\n",
    "plt.subplot(2, 2, 3)\n",
    "sns.boxplot(data=df1, y='saturday_entry')\n",
    "plt.title('saturday_entry')\n",
    "\n",
    "plt.subplot(2, 2, 4)\n",
    "sns.boxplot(data=df1, y='saturday_exit')\n",
    "plt.title('saturday_exit')\n",
    "\n",
    "plt.tight_layout()\n",
    "plt.show()"
   ],
   "metadata": {
    "colab": {
     "base_uri": "https://localhost:8080/",
     "height": 807
    },
    "id": "nGohzgQrG0ea",
    "outputId": "92cf180e-6413-4f7a-fe1c-144be133e72a",
    "pycharm": {
     "name": "#%%\n"
    }
   },
   "execution_count": 12,
   "outputs": [
    {
     "output_type": "display_data",
     "data": {
      "text/plain": [
       "<Figure size 1200x800 with 4 Axes>"
      ],
      "image/png": "[encoded data removed]"
     },
     "metadata": {}
    }
   ]
  },
  {
   "cell_type": "code",
   "source": [
    "import seaborn as sns\n",
    "import matplotlib.pyplot as plt\n",
    "\n",
    "plt.figure(figsize=(12, 8))\n",
    "\n",
    "plt.subplot(2, 2, 1)\n",
    "sns.boxplot(data=df1, y='sunday_entry')\n",
    "plt.title('sunday_entry')\n",
    "\n",
    "plt.subplot(2, 2, 2)\n",
    "sns.boxplot(data=df1, y='sunday_exit')\n",
    "plt.title('sunday_exit')\n",
    "\n",
    "plt.tight_layout()\n",
    "plt.show()"
   ],
   "metadata": {
    "colab": {
     "base_uri": "https://localhost:8080/",
     "height": 428
    },
    "outputId": "599bf581-0364-4d32-f96a-beb9fefb2965",
    "id": "zx0vVnXEHxZ9",
    "pycharm": {
     "name": "#%%\n"
    }
   },
   "execution_count": 13,
   "outputs": [
    {
     "output_type": "display_data",
     "data": {
      "text/plain": [
       "<Figure size 1200x800 with 2 Axes>"
      ],
      "image/png": "[encoded data removed]"
     },
     "metadata": {}
    }
   ]
  },
  {
   "cell_type": "code",
   "source": [
    "import pandas as pd\n",
    "df2 = pd.read_csv('/content/gdrive/MyDrive/data/project_london/london_underground_station_info.csv')\n",
    "df2.head()"
   ],
   "metadata": {
    "colab": {
     "base_uri": "https://localhost:8080/",
     "height": 206
    },
    "id": "QBW0yQueH2Mq",
    "outputId": "e0d6afd7-69d9-4fd3-96f7-8111219c15b6",
    "pycharm": {
     "name": "#%%\n"
    }
   },
   "execution_count": 14,
   "outputs": [
    {
     "output_type": "execute_result",
     "data": {
      "text/plain": [
       "        station                   line local_authority zone      opened\n",
       "0    Acton Town               District          Ealing    3  1879-07-01\n",
       "1       Aldgate        Metropolitan[a]  City of London    1  1876-11-18\n",
       "2  Aldgate East  Hammersmith & City[d]   Tower Hamlets    1  1884-10-06\n",
       "3      Alperton          Piccadilly[h]           Brent    4  1903-06-28\n",
       "4      Amersham           Metropolitan        Chiltern    9  1892-09-01"
      ],
      "text/html": [
       "\n",
       "  <div id=\"df-98865ee8-9fdb-4220-9c49-f88262d3f995\">\n",
       "    <div class=\"colab-df-container\">\n",
       "      <div>\n",
       "<style scoped>\n",
       "    .dataframe tbody tr th:only-of-type {\n",
       "        vertical-align: middle;\n",
       "    }\n",
       "\n",
       "    .dataframe tbody tr th {\n",
       "        vertical-align: top;\n",
       "    }\n",
       "\n",
       "    .dataframe thead th {\n",
       "        text-align: right;\n",
       "    }\n",
       "</style>\n",
       "<table border=\"1\" class=\"dataframe\">\n",
       "  <thead>\n",
       "    <tr style=\"text-align: right;\">\n",
       "      <th></th>\n",
       "      <th>station</th>\n",
       "      <th>line</th>\n",
       "      <th>local_authority</th>\n",
       "      <th>zone</th>\n",
       "      <th>opened</th>\n",
       "    </tr>\n",
       "  </thead>\n",
       "  <tbody>\n",
       "    <tr>\n",
       "      <th>0</th>\n",
       "      <td>Acton Town</td>\n",
       "      <td>District</td>\n",
       "      <td>Ealing</td>\n",
       "      <td>3</td>\n",
       "      <td>1879-07-01</td>\n",
       "    </tr>\n",
       "    <tr>\n",
       "      <th>1</th>\n",
       "      <td>Aldgate</td>\n",
       "      <td>Metropolitan[a]</td>\n",
       "      <td>City of London</td>\n",
       "      <td>1</td>\n",
       "      <td>1876-11-18</td>\n",
       "    </tr>\n",
       "    <tr>\n",
       "      <th>2</th>\n",
       "      <td>Aldgate East</td>\n",
       "      <td>Hammersmith &amp; City[d]</td>\n",
       "      <td>Tower Hamlets</td>\n",
       "      <td>1</td>\n",
       "      <td>1884-10-06</td>\n",
       "    </tr>\n",
       "    <tr>\n",
       "      <th>3</th>\n",
       "      <td>Alperton</td>\n",
       "      <td>Piccadilly[h]</td>\n",
       "      <td>Brent</td>\n",
       "      <td>4</td>\n",
       "      <td>1903-06-28</td>\n",
       "    </tr>\n",
       "    <tr>\n",
       "      <th>4</th>\n",
       "      <td>Amersham</td>\n",
       "      <td>Metropolitan</td>\n",
       "      <td>Chiltern</td>\n",
       "      <td>9</td>\n",
       "      <td>1892-09-01</td>\n",
       "    </tr>\n",
       "  </tbody>\n",
       "</table>\n",
       "</div>\n",
       "      <button class=\"colab-df-convert\" onclick=\"convertToInteractive('df-98865ee8-9fdb-4220-9c49-f88262d3f995')\"\n",
       "              title=\"Convert this dataframe to an interactive table.\"\n",
       "              style=\"display:none;\">\n",
       "        \n",
       "  <svg xmlns=\"http://www.w3.org/2000/svg\" height=\"24px\"viewBox=\"0 0 24 24\"\n",
       "       width=\"24px\">\n",
       "    <path d=\"M0 0h24v24H0V0z\" fill=\"none\"/>\n",
       "    <path d=\"M18.56 5.44l.94 2.06.94-2.06 2.06-.94-2.06-.94-.94-2.06-.94 2.06-2.06.94zm-11 1L8.5 8.5l.94-2.06 2.06-.94-2.06-.94L8.5 2.5l-.94 2.06-2.06.94zm10 10l.94 2.06.94-2.06 2.06-.94-2.06-.94-.94-2.06-.94 2.06-2.06.94z\"/><path d=\"M17.41 7.96l-1.37-1.37c-.4-.4-.92-.59-1.43-.59-.52 0-1.04.2-1.43.59L10.3 9.45l-7.72 7.72c-.78.78-.78 2.05 0 2.83L4 21.41c.39.39.9.59 1.41.59.51 0 1.02-.2 1.41-.59l7.78-7.78 2.81-2.81c.8-.78.8-2.07 0-2.86zM5.41 20L4 18.59l7.72-7.72 1.47 1.35L5.41 20z\"/>\n",
       "  </svg>\n",
       "      </button>\n",
       "      \n",
       "  <style>\n",
       "    .colab-df-container {\n",
       "      display:flex;\n",
       "      flex-wrap:wrap;\n",
       "      gap: 12px;\n",
       "    }\n",
       "\n",
       "    .colab-df-convert {\n",
       "      background-color: #E8F0FE;\n",
       "      border: none;\n",
       "      border-radius: 50%;\n",
       "      cursor: pointer;\n",
       "      display: none;\n",
       "      fill: #1967D2;\n",
       "      height: 32px;\n",
       "      padding: 0 0 0 0;\n",
       "      width: 32px;\n",
       "    }\n",
       "\n",
       "    .colab-df-convert:hover {\n",
       "      background-color: #E2EBFA;\n",
       "      box-shadow: 0px 1px 2px rgba(60, 64, 67, 0.3), 0px 1px 3px 1px rgba(60, 64, 67, 0.15);\n",
       "      fill: #174EA6;\n",
       "    }\n",
       "\n",
       "    [theme=dark] .colab-df-convert {\n",
       "      background-color: #3B4455;\n",
       "      fill: #D2E3FC;\n",
       "    }\n",
       "\n",
       "    [theme=dark] .colab-df-convert:hover {\n",
       "      background-color: #434B5C;\n",
       "      box-shadow: 0px 1px 3px 1px rgba(0, 0, 0, 0.15);\n",
       "      filter: drop-shadow(0px 1px 2px rgba(0, 0, 0, 0.3));\n",
       "      fill: #FFFFFF;\n",
       "    }\n",
       "  </style>\n",
       "\n",
       "      <script>\n",
       "        const buttonEl =\n",
       "          document.querySelector('#df-98865ee8-9fdb-4220-9c49-f88262d3f995 button.colab-df-convert');\n",
       "        buttonEl.style.display =\n",
       "          google.colab.kernel.accessAllowed ? 'block' : 'none';\n",
       "\n",
       "        async function convertToInteractive(key) {\n",
       "          const element = document.querySelector('#df-98865ee8-9fdb-4220-9c49-f88262d3f995');\n",
       "          const dataTable =\n",
       "            await google.colab.kernel.invokeFunction('convertToInteractive',\n",
       "                                                     [key], {});\n",
       "          if (!dataTable) return;\n",
       "\n",
       "          const docLinkHtml = 'Like what you see? Visit the ' +\n",
       "            '<a target=\"_blank\" href=https://colab.research.google.com/notebooks/data_table.ipynb>data table notebook</a>'\n",
       "            + ' to learn more about interactive tables.';\n",
       "          element.innerHTML = '';\n",
       "          dataTable['output_type'] = 'display_data';\n",
       "          await google.colab.output.renderOutput(dataTable, element);\n",
       "          const docLink = document.createElement('div');\n",
       "          docLink.innerHTML = docLinkHtml;\n",
       "          element.appendChild(docLink);\n",
       "        }\n",
       "      </script>\n",
       "    </div>\n",
       "  </div>\n",
       "  "
      ]
     },
     "metadata": {},
     "execution_count": 14
    }
   ]
  },
  {
   "cell_type": "code",
   "source": [
    "df2.info()"
   ],
   "metadata": {
    "colab": {
     "base_uri": "https://localhost:8080/"
    },
    "id": "zoCgEokPIfZg",
    "outputId": "10c85997-1c37-419f-ec71-258b9c0550cb",
    "pycharm": {
     "name": "#%%\n"
    }
   },
   "execution_count": 15,
   "outputs": [
    {
     "output_type": "stream",
     "name": "stdout",
     "text": [
      "<class 'pandas.core.frame.DataFrame'>\n",
      "RangeIndex: 269 entries, 0 to 268\n",
      "Data columns (total 5 columns):\n",
      " #   Column           Non-Null Count  Dtype \n",
      "---  ------           --------------  ----- \n",
      " 0   station          269 non-null    object\n",
      " 1   line             269 non-null    object\n",
      " 2   local_authority  269 non-null    object\n",
      " 3   zone             269 non-null    object\n",
      " 4   opened           269 non-null    object\n",
      "dtypes: object(5)\n",
      "memory usage: 10.6+ KB\n"
     ]
    }
   ]
  },
  {
   "cell_type": "code",
   "source": [
    "df2.isnull().values.any()"
   ],
   "metadata": {
    "colab": {
     "base_uri": "https://localhost:8080/"
    },
    "id": "6YmKkE6XIjzT",
    "outputId": "c36453ad-06bb-4ac5-e1af-be377d70919e",
    "pycharm": {
     "name": "#%%\n"
    }
   },
   "execution_count": 16,
   "outputs": [
    {
     "output_type": "execute_result",
     "data": {
      "text/plain": [
       "False"
      ]
     },
     "metadata": {},
     "execution_count": 16
    }
   ]
  },
  {
   "cell_type": "code",
   "source": [
    "# Selecting duplicate rows except first\n",
    "# occurrence based on all columns\n",
    "duplicate = df2[df2.duplicated()]\n",
    " \n",
    "print(\"Duplicate Rows :\")\n",
    " \n",
    "# Print the resultant Dataframe\n",
    "print(duplicate)"
   ],
   "metadata": {
    "colab": {
     "base_uri": "https://localhost:8080/"
    },
    "id": "0EQNyfjXIuop",
    "outputId": "112e8913-6b38-45ba-f5d3-95dce6088323",
    "pycharm": {
     "name": "#%%\n"
    }
   },
   "execution_count": 20,
   "outputs": [
    {
     "output_type": "stream",
     "name": "stdout",
     "text": [
      "Duplicate Rows :\n",
      "Empty DataFrame\n",
      "Columns: [station, line, local_authority, zone, opened]\n",
      "Index: []\n"
     ]
    }
   ]
  },
  {
   "cell_type": "markdown",
   "source": [
    "# **Feature Engineering**\n",
    "- Population density for each borough\n",
    "- Average income per borough\n",
    "- Total ticket sales per borough"
   ],
   "metadata": {
    "id": "x1VLbfCVI_ex",
    "pycharm": {
     "name": "#%% md\n"
    }
   }
  },
  {
   "cell_type": "markdown",
   "source": [
    "# **Models**\n",
    "- Try linear regression, lasso and random forest to predict:\n",
    "- Underground station entries/exits per borough\n",
    "- Transport infrastructure spending per borough\n",
    "# **Evaluate models using**\n",
    "- Mean squared error\n",
    "- R2 score\n"
   ],
   "metadata": {
    "id": "WDRyEizyKE0Y",
    "pycharm": {
     "name": "#%% md\n"
    }
   }
  },
  {
   "cell_type": "code",
   "source": [
    "import pandas as pd\n",
    "from sklearn.model_selection import train_test_split\n",
    "from sklearn.linear_model import LinearRegression, Lasso\n",
    "from sklearn.ensemble import RandomForestRegressor\n",
    "from sklearn.metrics import mean_squared_error, r2_score\n",
    "\n",
    "# Select the relevant columns for prediction and evaluation\n",
    "# Replace 'borough', 'entries_exits', and 'infrastructure_spending' with the actual column names in your dataset\n",
    "df = df1[['area', 'annual_entry_and_exit']].copy()\n",
    "\n",
    "# Perform one-hot encoding for the 'borough' column\n",
    "borough_encoded = pd.get_dummies(df['area'], prefix='area')\n",
    "\n",
    "# Concatenate the encoded borough with the original dataframe\n",
    "df_encoded = pd.concat([df.drop('area', axis=1), borough_encoded], axis=1)\n",
    "\n",
    "# Split the data into training and testing sets\n",
    "X = df_encoded.drop(['annual_entry_and_exit'], axis=1)\n",
    "y_entries_exits = df_encoded['annual_entry_and_exit']\n",
    "X_train, X_test, y_train_entries_exits, y_test_entries_exits = train_test_split(X, y_entries_exits, test_size=0.2, random_state=42)\n",
    "\n",
    "# Train and evaluate linear regression model for underground station entries/exits\n",
    "lr_entries_exits = LinearRegression()\n",
    "lr_entries_exits.fit(X_train, y_train_entries_exits)\n",
    "lr_entries_exits_pred = lr_entries_exits.predict(X_test)\n",
    "lr_entries_exits_mse = mean_squared_error(y_test_entries_exits, lr_entries_exits_pred)\n",
    "lr_entries_exits_r2 = r2_score(y_test_entries_exits, lr_entries_exits_pred)\n",
    "\n",
    "# Train and evaluate Lasso model for underground station entries/exits\n",
    "lasso_entries_exits = Lasso()\n",
    "lasso_entries_exits.fit(X_train, y_train_entries_exits)\n",
    "lasso_entries_exits_pred = lasso_entries_exits.predict(X_test)\n",
    "lasso_entries_exits_mse = mean_squared_error(y_test_entries_exits, lasso_entries_exits_pred)\n",
    "lasso_entries_exits_r2 = r2_score(y_test_entries_exits, lasso_entries_exits_pred)\n",
    "\n",
    "# Train and evaluate random forest model for underground station entries/exits\n",
    "rf_entries_exits = RandomForestRegressor()\n",
    "rf_entries_exits.fit(X_train, y_train_entries_exits)\n",
    "rf_entries_exits_pred = rf_entries_exits.predict(X_test)\n",
    "rf_entries_exits_mse = mean_squared_error(y_test_entries_exits, rf_entries_exits_pred)\n",
    "rf_entries_exits_r2 = r2_score(y_test_entries_exits, rf_entries_exits_pred)\n",
    "\n",
    "\n",
    "# Print the evaluation results\n",
    "print(\"Underground Station Entries/Exits:\")\n",
    "print(\"Linear Regression - MSE:\", lr_entries_exits_mse)\n",
    "print(\"Linear Regression - R2 Score:\", lr_entries_exits_r2)\n",
    "print(\"Lasso - MSE:\", lasso_entries_exits_mse)\n",
    "print(\"Lasso - R2 Score:\", lasso_entries_exits_r2)\n",
    "print(\"Random Forest - MSE:\", rf_entries_exits_mse)\n",
    "print(\"Random Forest - R2 Score:\", rf_entries_exits_r2)"
   ],
   "metadata": {
    "colab": {
     "base_uri": "https://localhost:8080/"
    },
    "id": "hf_X37BYKC9f",
    "outputId": "1657a42c-8d2e-4b68-e9c1-269ca23a65ba",
    "pycharm": {
     "name": "#%%\n"
    }
   },
   "execution_count": 23,
   "outputs": [
    {
     "output_type": "stream",
     "name": "stdout",
     "text": [
      "Underground Station Entries/Exits:\n",
      "Linear Regression - MSE: 158.3065273612914\n",
      "Linear Regression - R2 Score: 0.24714747192780984\n",
      "Lasso - MSE: 207.1200915934977\n",
      "Lasso - R2 Score: 0.015006600360585876\n",
      "Random Forest - MSE: 158.68476397600256\n",
      "Random Forest - R2 Score: 0.2453487059745595\n"
     ]
    }
   ]
  },
  {
   "cell_type": "code",
   "source": [],
   "metadata": {
    "id": "EfVspvIzMTkP",
    "pycharm": {
     "name": "#%%\n"
    }
   },
   "execution_count": null,
   "outputs": []
  }
 ]
}