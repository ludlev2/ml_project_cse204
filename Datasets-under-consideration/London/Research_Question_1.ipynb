{
 "cells": [
  {
   "cell_type": "markdown",
   "source": [
    "# RQ 1: Did the 2012 Olympic games increase tourist activity in East London region?"
   ],
   "metadata": {
    "collapsed": false,
    "pycharm": {
     "name": "#%% md\n"
    }
   }
  },
  {
   "cell_type": "code",
   "execution_count": 27,
   "outputs": [],
   "source": [
    "# Importing libraries\n",
    "import pandas as pd\n",
    "import numpy as np\n",
    "import matplotlib.pyplot as plt\n",
    "import seaborn as sns\n",
    "import os\n",
    "import datetime"
   ],
   "metadata": {
    "collapsed": false,
    "pycharm": {
     "name": "#%%\n"
    }
   }
  },
  {
   "cell_type": "code",
   "execution_count": 28,
   "outputs": [
    {
     "name": "stderr",
     "output_type": "stream",
     "text": [
      "/var/folders/d3/ry6v0r7j28d4wdqwrz_hvdqc0000gn/T/ipykernel_14364/3518813486.py:2: DtypeWarning: Columns (0) have mixed types. Specify dtype option on import or set low_memory=False.\n",
      "  df = pd.read_csv('UK_international-visits.csv')\n"
     ]
    },
    {
     "data": {
      "text/plain": "   year        quarter   market    dur_stay mode  purpose              area  \\\n0  2002  January-March  Belgium  1-3 nights  Air  Holiday     TOTAL ENGLAND   \n1  2002  January-March  Belgium  1-3 nights  Air  Holiday            LONDON   \n2  2002  January-March  Belgium  1-3 nights  Air  Holiday   REST OF ENGLAND   \n3  2002  January-March  Belgium  1-3 nights  Air  Holiday  SOUTHERN ENGLAND   \n4  2002  January-March  Belgium  1-3 nights  Air  Holiday        SOUTH EAST   \n\n     visits     spend    nights  sample  \n0  4.431616  1.013484  9.530416       6  \n1  3.572186  0.969138  6.954456       5  \n2  0.859430  0.044346  2.575960       1  \n3  0.859430  0.044346  2.575960       1  \n4  0.859430  0.044346  2.575960       1  ",
      "text/html": "<div>\n<style scoped>\n    .dataframe tbody tr th:only-of-type {\n        vertical-align: middle;\n    }\n\n    .dataframe tbody tr th {\n        vertical-align: top;\n    }\n\n    .dataframe thead th {\n        text-align: right;\n    }\n</style>\n<table border=\"1\" class=\"dataframe\">\n  <thead>\n    <tr style=\"text-align: right;\">\n      <th></th>\n      <th>year</th>\n      <th>quarter</th>\n      <th>market</th>\n      <th>dur_stay</th>\n      <th>mode</th>\n      <th>purpose</th>\n      <th>area</th>\n      <th>visits</th>\n      <th>spend</th>\n      <th>nights</th>\n      <th>sample</th>\n    </tr>\n  </thead>\n  <tbody>\n    <tr>\n      <th>0</th>\n      <td>2002</td>\n      <td>January-March</td>\n      <td>Belgium</td>\n      <td>1-3 nights</td>\n      <td>Air</td>\n      <td>Holiday</td>\n      <td>TOTAL ENGLAND</td>\n      <td>4.431616</td>\n      <td>1.013484</td>\n      <td>9.530416</td>\n      <td>6</td>\n    </tr>\n    <tr>\n      <th>1</th>\n      <td>2002</td>\n      <td>January-March</td>\n      <td>Belgium</td>\n      <td>1-3 nights</td>\n      <td>Air</td>\n      <td>Holiday</td>\n      <td>LONDON</td>\n      <td>3.572186</td>\n      <td>0.969138</td>\n      <td>6.954456</td>\n      <td>5</td>\n    </tr>\n    <tr>\n      <th>2</th>\n      <td>2002</td>\n      <td>January-March</td>\n      <td>Belgium</td>\n      <td>1-3 nights</td>\n      <td>Air</td>\n      <td>Holiday</td>\n      <td>REST OF ENGLAND</td>\n      <td>0.859430</td>\n      <td>0.044346</td>\n      <td>2.575960</td>\n      <td>1</td>\n    </tr>\n    <tr>\n      <th>3</th>\n      <td>2002</td>\n      <td>January-March</td>\n      <td>Belgium</td>\n      <td>1-3 nights</td>\n      <td>Air</td>\n      <td>Holiday</td>\n      <td>SOUTHERN ENGLAND</td>\n      <td>0.859430</td>\n      <td>0.044346</td>\n      <td>2.575960</td>\n      <td>1</td>\n    </tr>\n    <tr>\n      <th>4</th>\n      <td>2002</td>\n      <td>January-March</td>\n      <td>Belgium</td>\n      <td>1-3 nights</td>\n      <td>Air</td>\n      <td>Holiday</td>\n      <td>SOUTH EAST</td>\n      <td>0.859430</td>\n      <td>0.044346</td>\n      <td>2.575960</td>\n      <td>1</td>\n    </tr>\n  </tbody>\n</table>\n</div>"
     },
     "execution_count": 28,
     "metadata": {},
     "output_type": "execute_result"
    }
   ],
   "source": [
    "# Importing data\n",
    "df = pd.read_csv('UK_international-visits.csv')\n",
    "df.head()"
   ],
   "metadata": {
    "collapsed": false,
    "pycharm": {
     "name": "#%%\n"
    }
   }
  },
  {
   "cell_type": "code",
   "execution_count": 29,
   "outputs": [
    {
     "name": "stdout",
     "output_type": "stream",
     "text": [
      "<class 'pandas.core.frame.DataFrame'>\n",
      "RangeIndex: 549853 entries, 0 to 549852\n",
      "Data columns (total 11 columns):\n",
      " #   Column    Non-Null Count   Dtype  \n",
      "---  ------    --------------   -----  \n",
      " 0   year      549853 non-null  object \n",
      " 1   quarter   549853 non-null  object \n",
      " 2   market    549853 non-null  object \n",
      " 3   dur_stay  549853 non-null  object \n",
      " 4   mode      549853 non-null  object \n",
      " 5   purpose   549853 non-null  object \n",
      " 6   area      549853 non-null  object \n",
      " 7   visits    549853 non-null  float64\n",
      " 8   spend     549853 non-null  float64\n",
      " 9   nights    549853 non-null  float64\n",
      " 10  sample    549853 non-null  int64  \n",
      "dtypes: float64(3), int64(1), object(7)\n",
      "memory usage: 46.1+ MB\n"
     ]
    }
   ],
   "source": [
    "df.info()"
   ],
   "metadata": {
    "collapsed": false,
    "pycharm": {
     "name": "#%%\n"
    }
   }
  },
  {
   "cell_type": "code",
   "execution_count": 30,
   "outputs": [
    {
     "data": {
      "text/plain": "     visits     spend    nights    sample\n0  0.019436  0.002407  0.002366  0.014925\n1  0.015667  0.002302  0.001726  0.011940\n2  0.003769  0.000108  0.000639  0.000000\n3  0.003769  0.000108  0.000639  0.000000\n4  0.003769  0.000108  0.000639  0.000000",
      "text/html": "<div>\n<style scoped>\n    .dataframe tbody tr th:only-of-type {\n        vertical-align: middle;\n    }\n\n    .dataframe tbody tr th {\n        vertical-align: top;\n    }\n\n    .dataframe thead th {\n        text-align: right;\n    }\n</style>\n<table border=\"1\" class=\"dataframe\">\n  <thead>\n    <tr style=\"text-align: right;\">\n      <th></th>\n      <th>visits</th>\n      <th>spend</th>\n      <th>nights</th>\n      <th>sample</th>\n    </tr>\n  </thead>\n  <tbody>\n    <tr>\n      <th>0</th>\n      <td>0.019436</td>\n      <td>0.002407</td>\n      <td>0.002366</td>\n      <td>0.014925</td>\n    </tr>\n    <tr>\n      <th>1</th>\n      <td>0.015667</td>\n      <td>0.002302</td>\n      <td>0.001726</td>\n      <td>0.011940</td>\n    </tr>\n    <tr>\n      <th>2</th>\n      <td>0.003769</td>\n      <td>0.000108</td>\n      <td>0.000639</td>\n      <td>0.000000</td>\n    </tr>\n    <tr>\n      <th>3</th>\n      <td>0.003769</td>\n      <td>0.000108</td>\n      <td>0.000639</td>\n      <td>0.000000</td>\n    </tr>\n    <tr>\n      <th>4</th>\n      <td>0.003769</td>\n      <td>0.000108</td>\n      <td>0.000639</td>\n      <td>0.000000</td>\n    </tr>\n  </tbody>\n</table>\n</div>"
     },
     "execution_count": 30,
     "metadata": {},
     "output_type": "execute_result"
    }
   ],
   "source": [
    "from sklearn.preprocessing import MinMaxScaler\n",
    "\n",
    "# Assuming you have a dataframe called 'df' and a list of columns to normalize\n",
    "columns_to_normalize = ['visits','spend','nights', 'sample']\n",
    "\n",
    "scaler = MinMaxScaler()\n",
    "df[columns_to_normalize] = scaler.fit_transform(df[columns_to_normalize])\n",
    "df[columns_to_normalize].head()"
   ],
   "metadata": {
    "collapsed": false,
    "pycharm": {
     "name": "#%%\n"
    }
   }
  },
  {
   "cell_type": "code",
   "execution_count": 31,
   "outputs": [
    {
     "data": {
      "text/plain": "      scrser   cserial              cscreen dwell1 dwell2 dwellin nadults  \\\n0  1001010.0  100101.0  Main Sample Address    1.0    NaN     1.0     1.0   \n1  1001030.0  100103.0  Main Sample Address    1.0    NaN     1.0     3.0   \n2  1001040.0  100104.0  Main Sample Address    1.0    NaN     1.0     2.0   \n3  1001050.0  100105.0  Main Sample Address    1.0    NaN     1.0     4.0   \n4  1001080.0  100108.0  Main Sample Address    1.0    NaN     1.0     2.0   \n\n  nwadult    sex1    sex2  ...     padd1     pind1 cdweight1     pind3  \\\n0     NaN    Male     NaN  ...  0.004058  0.004058  0.310474  0.004058   \n1     NaN    Male  Female  ...  0.004058  0.001353  0.931421  0.001353   \n2     NaN  Female    Male  ...  0.004058  0.002029  0.620947  0.002029   \n3     NaN    Male    Male  ...  0.004058  0.001015  1.241894  0.001015   \n4     NaN    Male  Female  ...  0.004058  0.002029  0.620947  0.002029   \n\n  cdweight3 nrweight2  finalwt1  finalwt3       popwt1       popwt3  \n0  0.347056     1.613  0.262512  0.284713   399.943051   402.646790  \n1  1.041167     1.613  0.812436  0.895140  1237.766607  1265.926032  \n2  0.694112     1.704  0.529924  0.568226   807.351705   803.596438  \n3  1.388223     1.818  1.425664  1.552870  2172.033573  2196.100930  \n4  0.694112     1.704  0.546224  0.595327   832.186264   841.923547  \n\n[5 rows x 1833 columns]",
      "text/html": "<div>\n<style scoped>\n    .dataframe tbody tr th:only-of-type {\n        vertical-align: middle;\n    }\n\n    .dataframe tbody tr th {\n        vertical-align: top;\n    }\n\n    .dataframe thead th {\n        text-align: right;\n    }\n</style>\n<table border=\"1\" class=\"dataframe\">\n  <thead>\n    <tr style=\"text-align: right;\">\n      <th></th>\n      <th>scrser</th>\n      <th>cserial</th>\n      <th>cscreen</th>\n      <th>dwell1</th>\n      <th>dwell2</th>\n      <th>dwellin</th>\n      <th>nadults</th>\n      <th>nwadult</th>\n      <th>sex1</th>\n      <th>sex2</th>\n      <th>...</th>\n      <th>padd1</th>\n      <th>pind1</th>\n      <th>cdweight1</th>\n      <th>pind3</th>\n      <th>cdweight3</th>\n      <th>nrweight2</th>\n      <th>finalwt1</th>\n      <th>finalwt3</th>\n      <th>popwt1</th>\n      <th>popwt3</th>\n    </tr>\n  </thead>\n  <tbody>\n    <tr>\n      <th>0</th>\n      <td>1001010.0</td>\n      <td>100101.0</td>\n      <td>Main Sample Address</td>\n      <td>1.0</td>\n      <td>NaN</td>\n      <td>1.0</td>\n      <td>1.0</td>\n      <td>NaN</td>\n      <td>Male</td>\n      <td>NaN</td>\n      <td>...</td>\n      <td>0.004058</td>\n      <td>0.004058</td>\n      <td>0.310474</td>\n      <td>0.004058</td>\n      <td>0.347056</td>\n      <td>1.613</td>\n      <td>0.262512</td>\n      <td>0.284713</td>\n      <td>399.943051</td>\n      <td>402.646790</td>\n    </tr>\n    <tr>\n      <th>1</th>\n      <td>1001030.0</td>\n      <td>100103.0</td>\n      <td>Main Sample Address</td>\n      <td>1.0</td>\n      <td>NaN</td>\n      <td>1.0</td>\n      <td>3.0</td>\n      <td>NaN</td>\n      <td>Male</td>\n      <td>Female</td>\n      <td>...</td>\n      <td>0.004058</td>\n      <td>0.001353</td>\n      <td>0.931421</td>\n      <td>0.001353</td>\n      <td>1.041167</td>\n      <td>1.613</td>\n      <td>0.812436</td>\n      <td>0.895140</td>\n      <td>1237.766607</td>\n      <td>1265.926032</td>\n    </tr>\n    <tr>\n      <th>2</th>\n      <td>1001040.0</td>\n      <td>100104.0</td>\n      <td>Main Sample Address</td>\n      <td>1.0</td>\n      <td>NaN</td>\n      <td>1.0</td>\n      <td>2.0</td>\n      <td>NaN</td>\n      <td>Female</td>\n      <td>Male</td>\n      <td>...</td>\n      <td>0.004058</td>\n      <td>0.002029</td>\n      <td>0.620947</td>\n      <td>0.002029</td>\n      <td>0.694112</td>\n      <td>1.704</td>\n      <td>0.529924</td>\n      <td>0.568226</td>\n      <td>807.351705</td>\n      <td>803.596438</td>\n    </tr>\n    <tr>\n      <th>3</th>\n      <td>1001050.0</td>\n      <td>100105.0</td>\n      <td>Main Sample Address</td>\n      <td>1.0</td>\n      <td>NaN</td>\n      <td>1.0</td>\n      <td>4.0</td>\n      <td>NaN</td>\n      <td>Male</td>\n      <td>Male</td>\n      <td>...</td>\n      <td>0.004058</td>\n      <td>0.001015</td>\n      <td>1.241894</td>\n      <td>0.001015</td>\n      <td>1.388223</td>\n      <td>1.818</td>\n      <td>1.425664</td>\n      <td>1.552870</td>\n      <td>2172.033573</td>\n      <td>2196.100930</td>\n    </tr>\n    <tr>\n      <th>4</th>\n      <td>1001080.0</td>\n      <td>100108.0</td>\n      <td>Main Sample Address</td>\n      <td>1.0</td>\n      <td>NaN</td>\n      <td>1.0</td>\n      <td>2.0</td>\n      <td>NaN</td>\n      <td>Male</td>\n      <td>Female</td>\n      <td>...</td>\n      <td>0.004058</td>\n      <td>0.002029</td>\n      <td>0.620947</td>\n      <td>0.002029</td>\n      <td>0.694112</td>\n      <td>1.704</td>\n      <td>0.546224</td>\n      <td>0.595327</td>\n      <td>832.186264</td>\n      <td>841.923547</td>\n    </tr>\n  </tbody>\n</table>\n<p>5 rows × 1833 columns</p>\n</div>"
     },
     "execution_count": 31,
     "metadata": {},
     "output_type": "execute_result"
    }
   ],
   "source": [
    "#import sav files for cultural engagement and concatenating them\n",
    "df = pd.read_spss('spss12/1a.sav')\n",
    "df.head()"
   ],
   "metadata": {
    "collapsed": false,
    "pycharm": {
     "name": "#%%\n"
    }
   }
  },
  {
   "cell_type": "code",
   "execution_count": 32,
   "outputs": [
    {
     "data": {
      "text/plain": "(28117, 1833)"
     },
     "execution_count": 32,
     "metadata": {},
     "output_type": "execute_result"
    }
   ],
   "source": [
    "df.shape"
   ],
   "metadata": {
    "collapsed": false,
    "pycharm": {
     "name": "#%%\n"
    }
   }
  },
  {
   "cell_type": "code",
   "execution_count": 47,
   "outputs": [
    {
     "data": {
      "text/plain": "['North', 'Midlands', 'East', 'South', 'London']\nCategories (6, object): ['East', 'Excluded from filter', 'London', 'Midlands', 'North', 'South']"
     },
     "execution_count": 47,
     "metadata": {},
     "output_type": "execute_result"
    }
   ],
   "source": [
    "df1 = pd.read_spss('spss12/1c.sav')\n",
    "#print all rows where gor6 != \"Excluded from filter\"\n",
    "df1 = df1[df1['gor6'] != \"Excluded from filter\"]\n",
    "df1.head()\n",
    "#print gor6 categories\n",
    "df1['gor6'].unique()"
   ],
   "metadata": {
    "collapsed": false,
    "pycharm": {
     "name": "#%%\n"
    }
   }
  },
  {
   "cell_type": "code",
   "execution_count": 43,
   "outputs": [
    {
     "data": {
      "text/plain": "gor\nEast Midlands               0.0\nEast of England             0.0\nLondon                      0.0\nNorth East                  0.0\nNorth West                  0.0\nSouth East                  0.0\nSouth West                  0.0\nWest Midlands               0.0\nYorkshire and Humberside    0.0\nName: museum_visits, dtype: float64"
     },
     "execution_count": 43,
     "metadata": {},
     "output_type": "execute_result"
    }
   ],
   "source": [
    "#rename muspsa column to museum_visits\n",
    "df1.rename(columns={'muspsa':'museum_visits'}, inplace=True)\n",
    "#convert museum_visits column by mapping\n",
    "# ['Been to 1+ museum/gallery in last year': 1, 'No associated adult data': 0, 'Not been to museum/gallery in last year': 0]\n",
    "df1['museum_visits'] = df1['museum_visits'].map({'Been to 1+ museum/gallery in last year': 1, 'No associated adult data': 0, 'Not been to museum/gallery in last year': 0})\n",
    "\n",
    "df1[\"muspsa2\"] = df1[\"museum_visits\"].map({'Been to 1+ museum/gallery in last year': 1, 'No associated adult data': 0, 'Not been to museum/gallery in last year': 0})\n",
    "\n",
    "#sum both columns together to get total number of museum visits\n",
    "df1['museum_visits'] = df1['museum_visits'] + df1['muspsa2']\n",
    "#drop muspsa2 column\n",
    "df1.drop(['muspsa2'], axis=1, inplace=True)\n",
    "\n"
   ],
   "metadata": {
    "collapsed": false,
    "pycharm": {
     "name": "#%%\n"
    }
   }
  },
  {
   "cell_type": "code",
   "execution_count": 41,
   "outputs": [
    {
     "data": {
      "text/plain": "      scrserU   ycserial    areaU     scrser   cserial  \\\n0  11003109.0  1100310.0  11003.0  1003109.0  100310.0   \n1  11003229.0  1100322.0  11003.0  1003229.0  100322.0   \n2  11004029.0  1100402.0  11004.0  1004029.0  100402.0   \n3  11004159.0  1100415.0  11004.0  1004159.0  100415.0   \n4  11005249.0  1100524.0  11005.0  1005249.0  100524.0   \n\n                       cscreen   acserial intday    intmon intyear  ...  \\\n0  Main sample address (child)  1003100.0   20.0  February  2006.0  ...   \n1  Main sample address (child)  1003220.0    1.0     March  2006.0  ...   \n2  Main sample address (child)  1004020.0   13.0       May  2006.0  ...   \n3  Main sample address (child)  1004150.0   21.0     March  2006.0  ...   \n4  Main sample address (child)  1005240.0   20.0     April  2006.0  ...   \n\n  areatyp     padd1 padd2    pchild designweightchild nrweight  desnrweight  \\\n0   Urban  0.004058   0.0  0.004058        246.426811    1.613   397.486447   \n1   Urban  0.004058   0.0  0.004058        246.426811    1.704   419.911286   \n2   Urban  0.004058   0.0  0.002029        492.853622    2.037  1003.942829   \n3   Urban  0.004058   0.0  0.004058        246.426811    2.037   501.971414   \n4   Urban  0.004058   0.0  0.004058        246.426811    1.639   403.893544   \n\n  unscaledweight scaledweight populationweight  \n0     313.612427     0.369509       404.784119  \n1     329.983551     0.388798       425.914566  \n2     944.195984     1.112484      1218.687483  \n3     366.654938     0.432005       473.246859  \n4     381.378479     0.449353       492.250747  \n\n[5 rows x 848 columns]",
      "text/html": "<div>\n<style scoped>\n    .dataframe tbody tr th:only-of-type {\n        vertical-align: middle;\n    }\n\n    .dataframe tbody tr th {\n        vertical-align: top;\n    }\n\n    .dataframe thead th {\n        text-align: right;\n    }\n</style>\n<table border=\"1\" class=\"dataframe\">\n  <thead>\n    <tr style=\"text-align: right;\">\n      <th></th>\n      <th>scrserU</th>\n      <th>ycserial</th>\n      <th>areaU</th>\n      <th>scrser</th>\n      <th>cserial</th>\n      <th>cscreen</th>\n      <th>acserial</th>\n      <th>intday</th>\n      <th>intmon</th>\n      <th>intyear</th>\n      <th>...</th>\n      <th>areatyp</th>\n      <th>padd1</th>\n      <th>padd2</th>\n      <th>pchild</th>\n      <th>designweightchild</th>\n      <th>nrweight</th>\n      <th>desnrweight</th>\n      <th>unscaledweight</th>\n      <th>scaledweight</th>\n      <th>populationweight</th>\n    </tr>\n  </thead>\n  <tbody>\n    <tr>\n      <th>0</th>\n      <td>11003109.0</td>\n      <td>1100310.0</td>\n      <td>11003.0</td>\n      <td>1003109.0</td>\n      <td>100310.0</td>\n      <td>Main sample address (child)</td>\n      <td>1003100.0</td>\n      <td>20.0</td>\n      <td>February</td>\n      <td>2006.0</td>\n      <td>...</td>\n      <td>Urban</td>\n      <td>0.004058</td>\n      <td>0.0</td>\n      <td>0.004058</td>\n      <td>246.426811</td>\n      <td>1.613</td>\n      <td>397.486447</td>\n      <td>313.612427</td>\n      <td>0.369509</td>\n      <td>404.784119</td>\n    </tr>\n    <tr>\n      <th>1</th>\n      <td>11003229.0</td>\n      <td>1100322.0</td>\n      <td>11003.0</td>\n      <td>1003229.0</td>\n      <td>100322.0</td>\n      <td>Main sample address (child)</td>\n      <td>1003220.0</td>\n      <td>1.0</td>\n      <td>March</td>\n      <td>2006.0</td>\n      <td>...</td>\n      <td>Urban</td>\n      <td>0.004058</td>\n      <td>0.0</td>\n      <td>0.004058</td>\n      <td>246.426811</td>\n      <td>1.704</td>\n      <td>419.911286</td>\n      <td>329.983551</td>\n      <td>0.388798</td>\n      <td>425.914566</td>\n    </tr>\n    <tr>\n      <th>2</th>\n      <td>11004029.0</td>\n      <td>1100402.0</td>\n      <td>11004.0</td>\n      <td>1004029.0</td>\n      <td>100402.0</td>\n      <td>Main sample address (child)</td>\n      <td>1004020.0</td>\n      <td>13.0</td>\n      <td>May</td>\n      <td>2006.0</td>\n      <td>...</td>\n      <td>Urban</td>\n      <td>0.004058</td>\n      <td>0.0</td>\n      <td>0.002029</td>\n      <td>492.853622</td>\n      <td>2.037</td>\n      <td>1003.942829</td>\n      <td>944.195984</td>\n      <td>1.112484</td>\n      <td>1218.687483</td>\n    </tr>\n    <tr>\n      <th>3</th>\n      <td>11004159.0</td>\n      <td>1100415.0</td>\n      <td>11004.0</td>\n      <td>1004159.0</td>\n      <td>100415.0</td>\n      <td>Main sample address (child)</td>\n      <td>1004150.0</td>\n      <td>21.0</td>\n      <td>March</td>\n      <td>2006.0</td>\n      <td>...</td>\n      <td>Urban</td>\n      <td>0.004058</td>\n      <td>0.0</td>\n      <td>0.004058</td>\n      <td>246.426811</td>\n      <td>2.037</td>\n      <td>501.971414</td>\n      <td>366.654938</td>\n      <td>0.432005</td>\n      <td>473.246859</td>\n    </tr>\n    <tr>\n      <th>4</th>\n      <td>11005249.0</td>\n      <td>1100524.0</td>\n      <td>11005.0</td>\n      <td>1005249.0</td>\n      <td>100524.0</td>\n      <td>Main sample address (child)</td>\n      <td>1005240.0</td>\n      <td>20.0</td>\n      <td>April</td>\n      <td>2006.0</td>\n      <td>...</td>\n      <td>Urban</td>\n      <td>0.004058</td>\n      <td>0.0</td>\n      <td>0.004058</td>\n      <td>246.426811</td>\n      <td>1.639</td>\n      <td>403.893544</td>\n      <td>381.378479</td>\n      <td>0.449353</td>\n      <td>492.250747</td>\n    </tr>\n  </tbody>\n</table>\n<p>5 rows × 848 columns</p>\n</div>"
     },
     "execution_count": 41,
     "metadata": {},
     "output_type": "execute_result"
    }
   ],
   "source": [
    "heritage_site_cols = ['herpsa', 'herpsa2']\n"
   ],
   "metadata": {
    "collapsed": false,
    "pycharm": {
     "name": "#%%\n"
    }
   }
  },
  {
   "cell_type": "code",
   "execution_count": 35,
   "outputs": [],
   "source": [],
   "metadata": {
    "collapsed": false,
    "pycharm": {
     "name": "#%%\n"
    }
   }
  }
 ],
 "metadata": {
  "kernelspec": {
   "display_name": "Python 3",
   "language": "python",
   "name": "python3"
  },
  "language_info": {
   "codemirror_mode": {
    "name": "ipython",
    "version": 2
   },
   "file_extension": ".py",
   "mimetype": "text/x-python",
   "name": "python",
   "nbconvert_exporter": "python",
   "pygments_lexer": "ipython2",
   "version": "2.7.6"
  }
 },
 "nbformat": 4,
 "nbformat_minor": 0
}